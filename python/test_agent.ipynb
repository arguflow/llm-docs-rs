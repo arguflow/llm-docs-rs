{
 "cells": [
  {
   "cell_type": "code",
   "execution_count": 78,
   "metadata": {},
   "outputs": [],
   "source": [
    "\"\"\"Build index for ratchet_core docs\"\"\"\n",
    "import os\n",
    "from dotenv import load_dotenv\n",
    "from langchain.agents import Tool, initialize_agent, AgentExecutor, AgentType\n",
    "from langchain.chains.conversation.memory import ConversationBufferMemory\n",
    "from langchain.chat_models import ChatOpenAI\n",
    "from llama_index import GPTSimpleVectorIndex, download_loader\n",
    "\n",
    "\n",
    "def get_env():\n",
    "    \"\"\"Load environment variables from .env file\"\"\"\n",
    "    load_dotenv()\n",
    "    os.getenv(\"OPENAI_API_KEY\")\n",
    "\n",
    "\n",
    "def build_and_save_index(crate_name: str):\n",
    "    \"\"\"Build and save index for ratchet_core docs\"\"\"\n",
    "    simple_directory_loader = download_loader(\"SimpleDirectoryReader\")\n",
    "\n",
    "    documents = simple_directory_loader(\n",
    "        input_dir=f\"../embedding-docs/{crate_name}\",\n",
    "        recursive=True,\n",
    "        file_extractor={\n",
    "            \".html\": \"UnstructuredReader\",\n",
    "        },\n",
    "    ).load_data()\n",
    "\n",
    "    index = GPTSimpleVectorIndex.from_documents(documents)\n",
    "    index.save_to_disk(f\"../embedding-indices/{crate_name}_index.json\")\n",
    "\n",
    "\n",
    "def load_index(crate_name: str):\n",
    "    \"\"\"Load index for ratchet_core docs\"\"\"\n",
    "    index = GPTSimpleVectorIndex.load_from_disk(\n",
    "        f\"../embedding-indices/{crate_name}_index.json\"\n",
    "    )\n",
    "    return index\n",
    "\n",
    "\n",
    "def build_chat_agent(crate_name: str):\n",
    "    \"\"\"Build chat agent for ratchet_core docs\"\"\"\n",
    "    index = load_index(crate_name)\n",
    "    memory = ConversationBufferMemory(memory_key=f\"{crate_name}_memory\")\n",
    "    llm = ChatOpenAI(temperature=0.3)\n",
    "    tools = [\n",
    "        Tool(\n",
    "            name=f\"{crate_name} docs and source code\",\n",
    "            func=lambda q: str(index.query(q)),\n",
    "            description=f\"Useful for everything involving {crate_name} - the rust crate in context -  docs. The input to this tool should be a complete english sentence.\\n\",\n",
    "            return_direct=True,\n",
    "        )\n",
    "    ]\n",
    "    agent_chain = initialize_agent(\n",
    "        tools, llm, agent=\"conversational-react-description\", memory=memory\n",
    "    )\n",
    "    return agent_chain\n"
   ]
  },
  {
   "cell_type": "code",
   "execution_count": 89,
   "metadata": {},
   "outputs": [],
   "source": [
    "from langchain import OpenAI\n",
    "\n",
    "\n",
    "crate_name = \"actix-web\"\n",
    "index = load_index(crate_name)\n",
    "memory = ConversationBufferMemory(memory_key=\"chat_history\")\n",
    "llm = OpenAI(temperature=0.3)\n",
    "tools = [\n",
    "    Tool(\n",
    "        name=f\"{crate_name} crate documentation and source code\",\n",
    "        func=lambda q: str(index.query(q)),\n",
    "        description=f\"Useful for when you need to answer questions about {crate_name}. The input to this tool should be a complete english sentence.\\n\",\n",
    "    )\n",
    "]\n",
    "agent_chain = initialize_agent(\n",
    "    tools, llm, agent=AgentType.CONVERSATIONAL_REACT_DESCRIPTION, verbose=True, memory=memory\n",
    ")"
   ]
  },
  {
   "cell_type": "code",
   "execution_count": 90,
   "metadata": {},
   "outputs": [
    {
     "name": "stdout",
     "output_type": "stream",
     "text": [
      "\n",
      "\n",
      "\u001b[1m> Entering new AgentExecutor chain...\u001b[0m\n",
      "\u001b[32;1m\u001b[1;3m\n",
      "Thought: Do I need to use a tool? No\n",
      "AI: The actix-web crate can be used in a variety of scenarios, such as building web applications, creating web services, and creating web APIs. It is designed to be a lightweight, high-performance web framework that is easy to use and extend.\u001b[0m\n",
      "\n",
      "\u001b[1m> Finished chain.\u001b[0m\n"
     ]
    },
    {
     "data": {
      "text/plain": [
       "'The actix-web crate can be used in a variety of scenarios, such as building web applications, creating web services, and creating web APIs. It is designed to be a lightweight, high-performance web framework that is easy to use and extend.'"
      ]
     },
     "execution_count": 90,
     "metadata": {},
     "output_type": "execute_result"
    }
   ],
   "source": [
    "agent_chain.run(\"In what scenarios would I use this crate?\")"
   ]
  },
  {
   "cell_type": "code",
   "execution_count": 91,
   "metadata": {},
   "outputs": [
    {
     "name": "stdout",
     "output_type": "stream",
     "text": [
      "\n",
      "\n",
      "\u001b[1m> Entering new AgentExecutor chain...\u001b[0m\n",
      "\u001b[32;1m\u001b[1;3m\n",
      "Thought: Do I need to use a tool? Yes\n",
      "Action: actix-web crate documentation and source code\n",
      "Action Input: How can I initialize a route?\u001b[0m"
     ]
    },
    {
     "name": "stderr",
     "output_type": "stream",
     "text": [
      "INFO:llama_index.token_counter.token_counter:> [query] Total LLM token usage: 99 tokens\n",
      "INFO:llama_index.token_counter.token_counter:> [query] Total embedding token usage: 7 tokens\n"
     ]
    },
    {
     "name": "stdout",
     "output_type": "stream",
     "text": [
      "\n",
      "Observation: \u001b[36;1m\u001b[1;3m\n",
      "To initialize a route, you can use the Route::new() method. This method takes a path and a handler as arguments and returns a Route object. For example: let route = Route::new(\"/\", handler);\u001b[0m\n",
      "Thought:\u001b[32;1m\u001b[1;3m Do I need to use a tool? No\n",
      "AI: You can also use the App::route() method, which takes a path and a closure as arguments and returns a Route object. For example: let route = app.route(\"/\", |req| { /* handler code here */ });\u001b[0m\n",
      "\n",
      "\u001b[1m> Finished chain.\u001b[0m\n"
     ]
    },
    {
     "data": {
      "text/plain": [
       "'You can also use the App::route() method, which takes a path and a closure as arguments and returns a Route object. For example: let route = app.route(\"/\", |req| { /* handler code here */ });'"
      ]
     },
     "execution_count": 91,
     "metadata": {},
     "output_type": "execute_result"
    }
   ],
   "source": [
    "agent_chain.run(\"What are all the ways that I can initialize a route?\")"
   ]
  },
  {
   "cell_type": "code",
   "execution_count": 92,
   "metadata": {},
   "outputs": [
    {
     "name": "stdout",
     "output_type": "stream",
     "text": [
      "\n",
      "\n",
      "\u001b[1m> Entering new AgentExecutor chain...\u001b[0m\n",
      "\u001b[32;1m\u001b[1;3m\n",
      "Thought: Do I need to use a tool? No\n",
      "AI: You can also use the App::route_with_options() method, which takes a path, a closure, and an Options struct as arguments and returns a Route object. This allows you to specify additional options such as the HTTP method and the request guard. For example: let route = app.route_with_options(\"/\", |req| { /* handler code here */ }, Options::new().method(Method::GET));\u001b[0m\n",
      "\n",
      "\u001b[1m> Finished chain.\u001b[0m\n"
     ]
    },
    {
     "data": {
      "text/plain": [
       "'You can also use the App::route_with_options() method, which takes a path, a closure, and an Options struct as arguments and returns a Route object. This allows you to specify additional options such as the HTTP method and the request guard. For example: let route = app.route_with_options(\"/\", |req| { /* handler code here */ }, Options::new().method(Method::GET));'"
      ]
     },
     "execution_count": 92,
     "metadata": {},
     "output_type": "execute_result"
    }
   ],
   "source": [
    "agent_chain.run(\"What other ways can I do that?\")"
   ]
  }
 ],
 "metadata": {
  "kernelspec": {
   "display_name": ".venv",
   "language": "python",
   "name": "python3"
  },
  "language_info": {
   "codemirror_mode": {
    "name": "ipython",
    "version": 3
   },
   "file_extension": ".py",
   "mimetype": "text/x-python",
   "name": "python",
   "nbconvert_exporter": "python",
   "pygments_lexer": "ipython3",
   "version": "3.10.6"
  },
  "orig_nbformat": 4
 },
 "nbformat": 4,
 "nbformat_minor": 2
}
